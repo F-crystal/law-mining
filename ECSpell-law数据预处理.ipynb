{
 "cells": [
  {
   "cell_type": "code",
   "execution_count": 1,
   "id": "9c374fd9",
   "metadata": {},
   "outputs": [],
   "source": [
    "import json\n",
    "import random\n",
    "import os"
   ]
  },
  {
   "cell_type": "code",
   "execution_count": 2,
   "id": "6e822877",
   "metadata": {},
   "outputs": [],
   "source": [
    "raw_data = []"
   ]
  },
  {
   "cell_type": "code",
   "execution_count": 3,
   "id": "40ec0d16",
   "metadata": {},
   "outputs": [],
   "source": [
    "with open(\"ECSpell-law/law.txt\",\"r\",encoding=\"utf-8\") as f:\n",
    "    num=0\n",
    "    for line in f.readlines():\n",
    "        line = line.strip().split(\"\\t\")\n",
    "        wrongs = int(line[0])  # 有几处错误\n",
    "        original_text=line[1]  # 原始语句\n",
    "        correct_text=line[2]   # 修改后的句子\n",
    "        if len(original_text) != len(correct_text):  # macbert要求必须相同长度\n",
    "            continue\n",
    "        else:\n",
    "            wrong_ids = []\n",
    "            if wrongs != 0:\n",
    "                for i in range(len(original_text)):\n",
    "                    if original_text[i] != correct_text[i]:\n",
    "                        wrong_ids.append(i)\n",
    "            idx = \"ECSpell\"+str(num)+line[0]\n",
    "            raw_data.append({'id':idx,'original_text':original_text,'wrong_ids':wrong_ids,\n",
    "                        'correct_text':correct_text\n",
    "                        })\n",
    "            num += 1"
   ]
  },
  {
   "cell_type": "code",
   "execution_count": 4,
   "id": "4f9917c3",
   "metadata": {},
   "outputs": [
    {
     "data": {
      "text/plain": [
       "2460"
      ]
     },
     "execution_count": 4,
     "metadata": {},
     "output_type": "execute_result"
    }
   ],
   "source": [
    "num"
   ]
  },
  {
   "cell_type": "code",
   "execution_count": 5,
   "id": "e3249edc",
   "metadata": {},
   "outputs": [],
   "source": [
    "## 将数据切分成训练数据、测试数据和验证数据，比例为6:3:1\n",
    "lst = list(range(2460))\n",
    "random.shuffle(lst)\n",
    "data = [[] for _ in range(3)]  #分别存储训练数据、测试数据和验证数据\n",
    "for i in range(2460):\n",
    "    k = lst[i] \n",
    "    if 0<=i<1476:\n",
    "        data[0].append(raw_data[k])\n",
    "    elif 1476<=i<2214:\n",
    "        data[1].append(raw_data[k])\n",
    "    else:\n",
    "        data[2].append(raw_data[k])"
   ]
  },
  {
   "cell_type": "code",
   "execution_count": 6,
   "id": "4fd836bc",
   "metadata": {},
   "outputs": [],
   "source": [
    "def save_json(data, json_path, mode='w', encoding='utf-8'):\n",
    "    dir = os.path.dirname(os.path.abspath(json_path))\n",
    "    if not os.path.exists(dir):\n",
    "        print(dir)\n",
    "        os.makedirs(dir)\n",
    "    with open(json_path, mode=mode, encoding=encoding) as f:\n",
    "        f.write(json.dumps(data, ensure_ascii=False, indent=4))"
   ]
  },
  {
   "cell_type": "code",
   "execution_count": 7,
   "id": "bd889b3e",
   "metadata": {},
   "outputs": [
    {
     "name": "stdout",
     "output_type": "stream",
     "text": [
      "/Users/fengran/Desktop/文本挖掘技术/小组作业/law-mining/ECSpell-law/output\n"
     ]
    }
   ],
   "source": [
    "name=[\"train\",\"test\",\"dev\"]\n",
    "for i in range(3):\n",
    "    save_json(data[i],\"ECSpell-law/output/{}.json\".format(name[i])) #将其存储起来"
   ]
  },
  {
   "cell_type": "code",
   "execution_count": null,
   "id": "62e35227",
   "metadata": {},
   "outputs": [],
   "source": []
  }
 ],
 "metadata": {
  "kernelspec": {
   "display_name": "Python 3 (ipykernel)",
   "language": "python",
   "name": "python3"
  },
  "language_info": {
   "codemirror_mode": {
    "name": "ipython",
    "version": 3
   },
   "file_extension": ".py",
   "mimetype": "text/x-python",
   "name": "python",
   "nbconvert_exporter": "python",
   "pygments_lexer": "ipython3",
   "version": "3.8.5"
  }
 },
 "nbformat": 4,
 "nbformat_minor": 5
}
